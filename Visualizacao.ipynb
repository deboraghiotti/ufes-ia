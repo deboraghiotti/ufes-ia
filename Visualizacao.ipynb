{
  "cells": [
    {
      "cell_type": "markdown",
      "metadata": {
        "id": "view-in-github",
        "colab_type": "text"
      },
      "source": [
        "<a href=\"https://colab.research.google.com/github/deboraghiotti/ufes-ia/blob/aula2-visualizacao/Visualizacao.ipynb\" target=\"_parent\"><img src=\"https://colab.research.google.com/assets/colab-badge.svg\" alt=\"Open In Colab\"/></a>"
      ]
    },
    {
      "cell_type": "markdown",
      "id": "negative-sapphire",
      "metadata": {
        "id": "negative-sapphire"
      },
      "source": [
        "# Bibliotecas importantes em Python\n",
        "\n",
        "Numpy: https://numpy.org/devdocs/user/quickstart.html#shape-manipulation\n",
        "\n",
        "Scipy: https://www.tutorialspoint.com/scipy/index.htm\n",
        "\n",
        "Pandas: https://pandas.pydata.org/pandas-docs/stable/user_guide/10min.html\n",
        "\n",
        "Matplotlib: https://matplotlib.org/stable/tutorials/introductory/pyplot.html#sphx-glr-tutorials-introductory-pyplot-py\n",
        "\n",
        "Seaborn: https://seaborn.pydata.org/tutorial.html"
      ]
    },
    {
      "cell_type": "markdown",
      "id": "structured-involvement",
      "metadata": {
        "id": "structured-involvement"
      },
      "source": [
        "Numerical Python (NumPy): funções numéricas, vetores e matrizes"
      ]
    },
    {
      "cell_type": "code",
      "execution_count": null,
      "id": "collectible-metropolitan",
      "metadata": {
        "id": "collectible-metropolitan",
        "outputId": "68ea42fe-7969-44e0-c45a-8bf8e2400f23"
      },
      "outputs": [
        {
          "name": "stdout",
          "output_type": "stream",
          "text": [
            "[[ 0  1  2  3  4]\n",
            " [ 5  6  7  8  9]\n",
            " [10 11 12 13 14]] (3, 5) 2 15 <class 'numpy.ndarray'>\n",
            "[6 7 8] <class 'numpy.ndarray'>\n",
            "[0.  0.3 0.6 0.9 1.2 1.5 1.8] <class 'numpy.ndarray'>\n",
            "[[ 0  5 10]\n",
            " [ 1  6 11]\n",
            " [ 2  7 12]\n",
            " [ 3  8 13]\n",
            " [ 4  9 14]]\n"
          ]
        }
      ],
      "source": [
        "import numpy as np\n",
        "a = np.arange(15).reshape(3, 5)\n",
        "print (a, a.shape, a.ndim, a.size, type(a))\n",
        "\n",
        "b = np.array([6, 7, 8])\n",
        "print (b, type(b))\n",
        "\n",
        "c = np.arange(0, 2, 0.3)\n",
        "print (c, type(c))\n",
        "\n",
        "d = np.transpose(a)\n",
        "print(d)"
      ]
    },
    {
      "cell_type": "code",
      "execution_count": null,
      "id": "detected-stack",
      "metadata": {
        "id": "detected-stack",
        "outputId": "731005ba-f33f-440d-8a00-1a9d15317361"
      },
      "outputs": [
        {
          "name": "stdout",
          "output_type": "stream",
          "text": [
            "[[0.51182162 0.9504637  0.14415961]\n",
            " [0.94864945 0.31183145 0.42332645]] 3.290252281866131 0.14415961271963373 0.9504636963259353 0.5483753803110218 0.3050167130701734\n",
            "1.8139052571361414\n",
            "1.8139052571361414 0.14415961271963373\n"
          ]
        }
      ],
      "source": [
        "rg = np.random.default_rng(1)\n",
        "a = rg.random((2, 3))\n",
        "print(a, a.sum(), a.min(), a.max(), a.mean(), a.std())\n",
        "print (np.sqrt(a.sum()))\n",
        "print (np.sqrt(np.sum(a)), np.min(a))"
      ]
    },
    {
      "cell_type": "code",
      "execution_count": null,
      "id": "atlantic-airport",
      "metadata": {
        "id": "atlantic-airport",
        "outputId": "29a592c2-0438-4325-c730-ccb144a95c06"
      },
      "outputs": [
        {
          "name": "stdout",
          "output_type": "stream",
          "text": [
            "mean:  95.1\n",
            "standard deviation:  8.005623023850173\n"
          ]
        }
      ],
      "source": [
        "from numpy import mean, std\n",
        "\n",
        "values = [87, 100, 104, 94, 105, 88, 103, 99, 91, 80]\n",
        "mean = mean(values)\n",
        "sigma = std(values)\n",
        "print ('mean: ', mean) \n",
        "print ('standard deviation: ', sigma)"
      ]
    },
    {
      "cell_type": "markdown",
      "id": "strategic-principle",
      "metadata": {
        "id": "strategic-principle"
      },
      "source": [
        "Scientific Python (Scipy): álgebra linear, otimização, estatística"
      ]
    },
    {
      "cell_type": "code",
      "execution_count": null,
      "id": "thick-chaos",
      "metadata": {
        "id": "thick-chaos",
        "outputId": "26aa0d1e-8126-47ce-a58d-a0fe8ded60a4"
      },
      "outputs": [
        {
          "name": "stdout",
          "output_type": "stream",
          "text": [
            "pi = 3.1415926535897931\n",
            "[ 4.5       +0.j          2.08155948-1.65109876j -1.83155948+1.60822041j\n",
            " -1.83155948-1.60822041j  2.08155948+1.65109876j]\n"
          ]
        }
      ],
      "source": [
        "from scipy.constants import pi\n",
        "from scipy.fftpack import fft\n",
        "\n",
        "print(\"pi = %.16f\"%pi)\n",
        "\n",
        "x = np.array([1.0, 2.0, 1.0, -1.0, 1.5])\n",
        "y = fft(x)\n",
        "print (y)"
      ]
    },
    {
      "cell_type": "markdown",
      "id": "helpful-istanbul",
      "metadata": {
        "id": "helpful-istanbul"
      },
      "source": [
        "Intervalo de confiança"
      ]
    },
    {
      "cell_type": "code",
      "execution_count": null,
      "id": "professional-prayer",
      "metadata": {
        "id": "professional-prayer",
        "outputId": "d99d9940-f1c6-43a0-b4e1-b6fd9ed80ed5"
      },
      "outputs": [
        {
          "name": "stdout",
          "output_type": "stream",
          "text": [
            "method m1: \n",
            "method 1 mean:  12.066666666666666\n",
            "method 1 standard deviation:  1.4360439485692011\n",
            "95% confidence interval method 1: (11.55279438208657, 12.580538951246762)\n",
            "method m2: \n",
            "method 2 mean:  11.2\n",
            "method 2 standard deviation:  2.3579652245103193\n",
            "95% confidence interval method 2: (10.356228485843484, 12.043771514156514)\n"
          ]
        }
      ],
      "source": [
        "from numpy import mean, std, sqrt\n",
        "from scipy import stats\n",
        "\n",
        "m1Values = [11, 13, 13, 13, 13, 13, 9, 13, 13, 13, 9, 13, 13, 13, 13, 13, 13, 13, 13, 13, 9, 13, 11, 13, 9, 11, 11, 13, 11, 11]\n",
        "mean1 = mean(m1Values)\n",
        "sigma1 = std(m1Values)\n",
        "print ('method m1: ')\n",
        "print ('method 1 mean: ', mean1) \n",
        "print ('method 1 standard deviation: ', sigma1)\n",
        "print ('95% confidence interval method 1:',\n",
        "       stats.norm.interval(0.95, loc=mean1, \n",
        "                           scale=sigma1/sqrt(len(m1Values))))\n",
        "\n",
        "m2Values = [11, 13, 13, 6, 11, 11, 9, 13, 13, 11, 13, 11, 13, 13, 6, 11, 11, 11, 13, 13, 6, 13, 13, 11, 13, 6, 13, 9, 13, 13]\n",
        "mean2 = mean(m2Values)\n",
        "sigma2 = std(m2Values)\n",
        "print ('method m2: ')\n",
        "print ('method 2 mean: ', mean2) \n",
        "print ('method 2 standard deviation: ', sigma2)\n",
        "print ('95% confidence interval method 2:',\n",
        "       stats.norm.interval(0.95, loc=mean2, \n",
        "                           scale=sigma2/sqrt(len(m2Values))))"
      ]
    },
    {
      "cell_type": "markdown",
      "id": "finite-marker",
      "metadata": {
        "id": "finite-marker"
      },
      "source": [
        "Pandas"
      ]
    },
    {
      "cell_type": "code",
      "execution_count": null,
      "id": "square-frost",
      "metadata": {
        "id": "square-frost",
        "outputId": "837b13b9-d95d-41e4-c256-005b07413c4e"
      },
      "outputs": [
        {
          "name": "stderr",
          "output_type": "stream",
          "text": [
            "/home/flavio/.local/lib/python3.6/site-packages/pandas/compat/__init__.py:84: UserWarning: Could not import the lzma module. Your installed Python is incomplete. Attempting to use lzma compression will result in a RuntimeError.\n",
            "  warnings.warn(msg)\n",
            "/home/flavio/.local/lib/python3.6/site-packages/pandas/compat/__init__.py:84: UserWarning: Could not import the lzma module. Your installed Python is incomplete. Attempting to use lzma compression will result in a RuntimeError.\n",
            "  warnings.warn(msg)\n"
          ]
        },
        {
          "name": "stdout",
          "output_type": "stream",
          "text": [
            "   one  two\n",
            "0  1.0  4.0\n",
            "1  2.0  3.0\n",
            "2  3.0  2.0\n",
            "3  4.0  1.0 \n",
            "\n",
            "   one  two\n",
            "a  1.0  4.0\n",
            "b  2.0  3.0\n",
            "c  3.0  2.0\n",
            "d  4.0  1.0 \n",
            "\n",
            "     Name  Age    Address Qualification\n",
            "0     Jai   27      Delhi           Msc\n",
            "1  Princi   24     Kanpur            MA\n",
            "2  Gaurav   22  Allahabad           MCA\n",
            "3    Anuj   32    Kannauj           Phd \n",
            "\n",
            "     Name  Age    Address Qualification\n",
            "2  Gaurav   22  Allahabad           MCA\n",
            "1  Princi   24     Kanpur            MA\n",
            "0     Jai   27      Delhi           Msc\n",
            "3    Anuj   32    Kannauj           Phd \n",
            "\n",
            "     Name Qualification\n",
            "2  Gaurav           MCA\n",
            "1  Princi            MA\n",
            "0     Jai           Msc\n",
            "3    Anuj           Phd \n",
            "\n",
            "[['Gaurav' 22 'Allahabad' 'MCA']\n",
            " ['Princi' 24 'Kanpur' 'MA']\n",
            " ['Jai' 27 'Delhi' 'Msc']\n",
            " ['Anuj' 32 'Kannauj' 'Phd']] \n",
            "\n",
            "Kanpur\n"
          ]
        }
      ],
      "source": [
        "import pandas as pd\n",
        "\n",
        "d = {\"one\": [1.0, 2.0, 3.0, 4.0], \"two\": [4.0, 3.0, 2.0, 1.0]}\n",
        "\n",
        "df = pd.DataFrame(d)\n",
        "print(df, '\\n')\n",
        "\n",
        "df = pd.DataFrame(d, index=[\"a\", \"b\", \"c\", \"d\"])\n",
        "print(df, '\\n')\n",
        "\n",
        "data = {'Name':['Jai', 'Princi', 'Gaurav', 'Anuj'],\n",
        "        'Age':[27, 24, 22, 32],\n",
        "        'Address':['Delhi', 'Kanpur', 'Allahabad', 'Kannauj'],\n",
        "        'Qualification':['Msc', 'MA', 'MCA', 'Phd']}\n",
        "\n",
        "# Convert the dictionary into DataFrame \n",
        "df = pd.DataFrame(data)\n",
        "print(df, '\\n')\n",
        "\n",
        "df.sort_values(by=['Age'], inplace = True)\n",
        "print(df, '\\n')\n",
        "\n",
        "# select two columns\n",
        "print(df[['Name', 'Qualification']], '\\n')\n",
        "\n",
        "mat = np.asarray(df)\n",
        "print (mat, '\\n')\n",
        "print (mat[1][2])"
      ]
    },
    {
      "cell_type": "raw",
      "id": "transparent-familiar",
      "metadata": {
        "id": "transparent-familiar"
      },
      "source": [
        "Matplotlib"
      ]
    },
    {
      "cell_type": "markdown",
      "id": "laden-edinburgh",
      "metadata": {
        "id": "laden-edinburgh"
      },
      "source": [
        "Gráfico de Linhas"
      ]
    },
    {
      "cell_type": "code",
      "execution_count": null,
      "id": "marked-emergency",
      "metadata": {
        "id": "marked-emergency",
        "outputId": "4de2c889-ea11-4528-d1e5-9d433518b342"
      },
      "outputs": [
        {
          "data": {
            "image/png": "[encoded data removed]",
            "text/plain": [
              "<Figure size 432x288 with 1 Axes>"
            ]
          },
          "metadata": {
            "needs_background": "light"
          },
          "output_type": "display_data"
        }
      ],
      "source": [
        "import matplotlib.pyplot as plt\n",
        "plt.plot([1,2,5,4])\n",
        "plt.xlabel('some stuff')\n",
        "plt.ylabel('some numbers')\n",
        "plt.show()"
      ]
    },
    {
      "cell_type": "code",
      "execution_count": null,
      "id": "concrete-medicine",
      "metadata": {
        "id": "concrete-medicine",
        "outputId": "07c21fa8-2d9e-4837-dff4-68ca8f183ffa"
      },
      "outputs": [
        {
          "data": {
            "image/png": "[encoded data removed]",
            "text/plain": [
              "<Figure size 432x288 with 1 Axes>"
            ]
          },
          "metadata": {
            "needs_background": "light"
          },
          "output_type": "display_data"
        }
      ],
      "source": [
        "import matplotlib.pyplot as plt  \n",
        "# compute the x and y coordinates for points on a sine curve \n",
        "x = np.arange(0, 3 * np.pi, 0.1) \n",
        "y = np.sin(x) \n",
        "plt.title(\"sine wave form\") \n",
        "# plot the points using matplotlib \n",
        "plt.plot(x, y) \n",
        "plt.show()"
      ]
    },
    {
      "cell_type": "code",
      "execution_count": null,
      "id": "spiritual-drive",
      "metadata": {
        "id": "spiritual-drive",
        "outputId": "c253aaf3-d35d-43fd-bb48-b4e2b2abb795"
      },
      "outputs": [
        {
          "data": {
            "image/png": "[encoded data removed]",
            "text/plain": [
              "<Figure size 432x288 with 1 Axes>"
            ]
          },
          "metadata": {
            "needs_background": "light"
          },
          "output_type": "display_data"
        }
      ],
      "source": [
        "# evenly sampled time at 200ms intervals\n",
        "t = np.arange(0., 5., 0.2)\n",
        "\n",
        "# red dashes, blue squares and green triangles\n",
        "plt.plot(t, t, 'ro-', t, t**2, 'bs-', t, t**3, 'g^-')\n",
        "plt.show()"
      ]
    },
    {
      "cell_type": "markdown",
      "id": "judicial-transaction",
      "metadata": {
        "id": "judicial-transaction"
      },
      "source": [
        "Gráfico de Barras"
      ]
    },
    {
      "cell_type": "code",
      "execution_count": null,
      "id": "favorite-reward",
      "metadata": {
        "id": "favorite-reward",
        "outputId": "6d87c524-752e-45c0-b18a-91aac72716fc"
      },
      "outputs": [
        {
          "data": {
            "image/png": "[encoded data removed]",
            "text/plain": [
              "<Figure size 432x288 with 1 Axes>"
            ]
          },
          "metadata": {
            "needs_background": "light"
          },
          "output_type": "display_data"
        }
      ],
      "source": [
        "names = ['group_a', 'group_b', 'group_c']\n",
        "values = [1, 10, 100]\n",
        "\n",
        "plt.bar(names, values)\n",
        "plt.show()"
      ]
    },
    {
      "cell_type": "markdown",
      "id": "binary-paint",
      "metadata": {
        "id": "binary-paint"
      },
      "source": [
        "Histograma"
      ]
    },
    {
      "cell_type": "code",
      "execution_count": null,
      "id": "dress-excitement",
      "metadata": {
        "id": "dress-excitement",
        "outputId": "0ffd1dcd-899c-40bf-f246-3ed91c361978"
      },
      "outputs": [
        {
          "data": {
            "image/png": "[encoded data removed]",
            "text/plain": [
              "<Figure size 432x288 with 1 Axes>"
            ]
          },
          "metadata": {
            "needs_background": "light"
          },
          "output_type": "display_data"
        }
      ],
      "source": [
        "plt.hist([1, 33, 20, 17, 64, 55, 22, 13, 99, 16, 80, 78, 99], 5)\n",
        "plt.show()"
      ]
    },
    {
      "cell_type": "markdown",
      "id": "dramatic-minutes",
      "metadata": {
        "id": "dramatic-minutes"
      },
      "source": [
        "Pizza"
      ]
    },
    {
      "cell_type": "code",
      "execution_count": null,
      "id": "published-combat",
      "metadata": {
        "id": "published-combat",
        "outputId": "54de1274-8402-4e64-8cdc-e6309f664d92"
      },
      "outputs": [
        {
          "data": {
            "image/png": "[encoded data removed]",
            "text/plain": [
              "<Figure size 432x288 with 1 Axes>"
            ]
          },
          "metadata": {},
          "output_type": "display_data"
        }
      ],
      "source": [
        "graos = ['Arroz', 'Feijão', 'Batata', 'Cenoura', 'Aipim']\n",
        "plt.pie([30, 90, 55, 17, 32], labels=graos, autopct='%1.2f%%')\n",
        "plt.show()"
      ]
    },
    {
      "cell_type": "markdown",
      "id": "compact-survival",
      "metadata": {
        "id": "compact-survival"
      },
      "source": [
        "Gráfico de Dispersão"
      ]
    },
    {
      "cell_type": "code",
      "execution_count": null,
      "id": "prerequisite-development",
      "metadata": {
        "id": "prerequisite-development",
        "outputId": "477f5791-fb37-4a11-af8c-ad10b9e430d3"
      },
      "outputs": [
        {
          "data": {
            "image/png": "[encoded data removed]",
            "text/plain": [
              "<Figure size 432x288 with 1 Axes>"
            ]
          },
          "metadata": {
            "needs_background": "light"
          },
          "output_type": "display_data"
        }
      ],
      "source": [
        "x = [5,7,8,7,2,17,2,9,4,11,12,9,6]\n",
        "y = [99,86,87,88,111,86,103,87,94,78,77,85,86]\n",
        "\n",
        "plt.scatter(x, y)\n",
        "plt.show()"
      ]
    },
    {
      "cell_type": "markdown",
      "id": "potential-hacker",
      "metadata": {
        "id": "potential-hacker"
      },
      "source": [
        "Seaborn: Visualização Estatística "
      ]
    },
    {
      "cell_type": "markdown",
      "id": "wrong-attitude",
      "metadata": {
        "id": "wrong-attitude"
      },
      "source": [
        "Gráfico de Barras com Intervalo de Confiança"
      ]
    },
    {
      "cell_type": "code",
      "execution_count": null,
      "id": "smoking-atlas",
      "metadata": {
        "id": "smoking-atlas",
        "outputId": "4e7deba3-b8f0-437f-ab58-b2e902525716"
      },
      "outputs": [
        {
          "name": "stdout",
          "output_type": "stream",
          "text": [
            "        sex  survived   class\n",
            "0      male         0   Third\n",
            "1    female         1   First\n",
            "2    female         1   Third\n",
            "3    female         1   First\n",
            "4      male         0   Third\n",
            "..      ...       ...     ...\n",
            "886    male         0  Second\n",
            "887  female         1   First\n",
            "888  female         0   Third\n",
            "889    male         1   First\n",
            "890    male         0   Third\n",
            "\n",
            "[891 rows x 3 columns] \n",
            "\n"
          ]
        },
        {
          "data": {
            "image/png": "[encoded data removed]",
            "text/plain": [
              "<Figure size 432x288 with 1 Axes>"
            ]
          },
          "metadata": {
            "needs_background": "light"
          },
          "output_type": "display_data"
        }
      ],
      "source": [
        "import seaborn as sns\n",
        "\n",
        "titanic = sns.load_dataset(\"titanic\")\n",
        "print (titanic[['sex', 'survived', 'class']], '\\n')\n",
        "\n",
        "output = sns.barplot(x=\"sex\", y=\"survived\", hue=\"class\", data=titanic)"
      ]
    },
    {
      "cell_type": "markdown",
      "id": "perceived-reunion",
      "metadata": {
        "id": "perceived-reunion"
      },
      "source": [
        "Gráfico de Dispersão"
      ]
    },
    {
      "cell_type": "code",
      "execution_count": null,
      "id": "covered-comparative",
      "metadata": {
        "id": "covered-comparative",
        "outputId": "8e36698c-033b-44d3-97ef-14ed36ff3604"
      },
      "outputs": [
        {
          "name": "stdout",
          "output_type": "stream",
          "text": [
            "     sepal_length  sepal_width  petal_length  petal_width    species\n",
            "0             5.1          3.5           1.4          0.2     setosa\n",
            "1             4.9          3.0           1.4          0.2     setosa\n",
            "2             4.7          3.2           1.3          0.2     setosa\n",
            "3             4.6          3.1           1.5          0.2     setosa\n",
            "4             5.0          3.6           1.4          0.2     setosa\n",
            "..            ...          ...           ...          ...        ...\n",
            "145           6.7          3.0           5.2          2.3  virginica\n",
            "146           6.3          2.5           5.0          1.9  virginica\n",
            "147           6.5          3.0           5.2          2.0  virginica\n",
            "148           6.2          3.4           5.4          2.3  virginica\n",
            "149           5.9          3.0           5.1          1.8  virginica\n",
            "\n",
            "[150 rows x 5 columns]\n"
          ]
        },
        {
          "data": {
            "image/png": "[encoded data removed]",
            "text/plain": [
              "<Figure size 432x288 with 1 Axes>"
            ]
          },
          "metadata": {
            "needs_background": "light"
          },
          "output_type": "display_data"
        }
      ],
      "source": [
        "iris = sns.load_dataset(\"iris\")\n",
        "print(iris)\n",
        "output = sns.scatterplot(data=iris, x='sepal_length', y='petal_width',\n",
        "                         hue='species')"
      ]
    },
    {
      "cell_type": "markdown",
      "id": "front-inspiration",
      "metadata": {
        "id": "front-inspiration"
      },
      "source": [
        "Gráficos de Caixa"
      ]
    },
    {
      "cell_type": "code",
      "execution_count": null,
      "id": "incomplete-profession",
      "metadata": {
        "id": "incomplete-profession",
        "outputId": "1f10119f-4930-4db1-8781-99022ae0c39f"
      },
      "outputs": [
        {
          "data": {
            "image/png": "[encoded data removed]",
            "text/plain": [
              "<Figure size 432x288 with 1 Axes>"
            ]
          },
          "metadata": {
            "needs_background": "light"
          },
          "output_type": "display_data"
        }
      ],
      "source": [
        "output = sns.boxplot(data=iris, showmeans=True)"
      ]
    },
    {
      "cell_type": "code",
      "execution_count": null,
      "id": "familiar-neighborhood",
      "metadata": {
        "id": "familiar-neighborhood",
        "outputId": "6eb8fdd6-ad24-4e05-dfa4-f3cc548ef53f"
      },
      "outputs": [
        {
          "data": {
            "image/png": "[encoded data removed]",
            "text/plain": [
              "<Figure size 432x288 with 1 Axes>"
            ]
          },
          "metadata": {
            "needs_background": "light"
          },
          "output_type": "display_data"
        }
      ],
      "source": [
        "from sklearn.manifold import TSNE\n",
        "\n",
        "iris_data = iris[['sepal_length', 'petal_length', 'sepal_width', 'petal_width' ]].values\n",
        "iris_target = iris['species'].values\n",
        "\n",
        "\n",
        "tnse = TSNE(n_components=2)\n",
        "\n",
        "tnse_results = tnse.fit_transform(iris_data)\n",
        "\n",
        "df = pd.DataFrame()\n",
        "df[\"y\"] = iris_target\n",
        "df[\"comp-1\"] = tnse_results[:,0]\n",
        "df[\"comp-2\"] = tnse_results[:,1]\n",
        "\n",
        "output = sns.scatterplot(data=df, x=\"comp-1\", y=\"comp-2\").set(title=\n",
        "                \"Projecao T-SNE da base Iris\")\n",
        "\n",
        "#output = sns.scatterplot(data=df, x=\"comp-1\", y=\"comp-2\",\n",
        "#                         hue=df.y.tolist()).set(title=\n",
        "#                \"Projecao T-SNE da base Iris\")"
      ]
    },
    {
      "cell_type": "markdown",
      "id": "grateful-lending",
      "metadata": {
        "id": "grateful-lending"
      },
      "source": [
        "### Exercícios de Fixação"
      ]
    },
    {
      "cell_type": "markdown",
      "id": "destroyed-vinyl",
      "metadata": {
        "id": "destroyed-vinyl"
      },
      "source": [
        "1. Use numpy para criar uma matriz (dataset) composta por valores numéricos aleatórios com 200 linhas (instâncias) e 12 colunas (características). Apresente o dataset."
      ]
    },
    {
      "cell_type": "markdown",
      "id": "removable-bridges",
      "metadata": {
        "id": "removable-bridges"
      },
      "source": [
        "2. Converta o dataset do exercício 1 em um dataframe de pandas. As instâncias devem ser numeradas de 0 a 199 e as características nomeadas com letras de \"a\" a \"l\" (inclua \"k\" como coluna). Apresente o dataset no formato dataframe. "
      ]
    },
    {
      "cell_type": "markdown",
      "id": "after-amateur",
      "metadata": {
        "id": "after-amateur"
      },
      "source": [
        "3. Mostre apenas as instâncias ímpares e as características \"b\", \"e\", \"f\" do dataset criado no exercício 2 ordenados crescentemente pelos valores da característica \"f\"."
      ]
    },
    {
      "cell_type": "markdown",
      "id": "experienced-cradle",
      "metadata": {
        "id": "experienced-cradle"
      },
      "source": [
        "4. Apresente a soma dos valores, os valores mínimos e máximos, a média e o desvio padrão de cada coluna do dataset do exercício 3. Apresente também o intervalo de confiança de cada característica."
      ]
    },
    {
      "cell_type": "markdown",
      "id": "smooth-bottom",
      "metadata": {
        "id": "smooth-bottom"
      },
      "source": [
        "5. Faça um gráfico de caixas com dados de cada característica (coluna) do dataframe do exercício 2."
      ]
    },
    {
      "cell_type": "markdown",
      "id": "unable-denver",
      "metadata": {
        "id": "unable-denver"
      },
      "source": [
        "6. Obtenha média, desvio padrão e intervalo de confiança de cada característica da base iris. Contraste os resultados com os obtidos fazendo um gráfico de barras com intervalo de confiança."
      ]
    },
    {
      "cell_type": "markdown",
      "id": "global-criminal",
      "metadata": {
        "id": "global-criminal"
      },
      "source": [
        "7. Faça um histograma com 7 faixas equidistantes de valores para a característica sepal_width da base iris."
      ]
    },
    {
      "cell_type": "markdown",
      "id": "artistic-carter",
      "metadata": {
        "id": "artistic-carter"
      },
      "source": [
        "8. Faça um gráfico de dispersão apresentando os dados das caraterísticas sepal_length e sepal_width diferenciando os exemplos de cada classe."
      ]
    },
    {
      "cell_type": "markdown",
      "id": "electric-skill",
      "metadata": {
        "id": "electric-skill"
      },
      "source": [
        "9. Indique e explique qual problema motivou o desenvolvimento da técnica proposta no artigo \"Visualizing Data using t-SNE\". "
      ]
    },
    {
      "cell_type": "raw",
      "id": "collected-manitoba",
      "metadata": {
        "id": "collected-manitoba"
      },
      "source": [
        "10. Apresente um gráfico com a projeção TSNE criado no exercício 1."
      ]
    }
  ],
  "metadata": {
    "kernelspec": {
      "display_name": "Python 3",
      "language": "python",
      "name": "python3"
    },
    "language_info": {
      "codemirror_mode": {
        "name": "ipython",
        "version": 3
      },
      "file_extension": ".py",
      "mimetype": "text/x-python",
      "name": "python",
      "nbconvert_exporter": "python",
      "pygments_lexer": "ipython3",
      "version": "3.6.7"
    },
    "colab": {
      "name": "Visualizacao.ipynb",
      "provenance": [],
      "include_colab_link": true
    }
  },
  "nbformat": 4,
  "nbformat_minor": 5
}