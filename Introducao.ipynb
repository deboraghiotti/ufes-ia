{
  "cells": [
    {
      "cell_type": "markdown",
      "metadata": {
        "id": "view-in-github",
        "colab_type": "text"
      },
      "source": [
        "<a href=\"https://colab.research.google.com/github/deboraghiotti/ufes-ia/blob/aula1-introducao/Introducao.ipynb\" target=\"_parent\"><img src=\"https://colab.research.google.com/assets/colab-badge.svg\" alt=\"Open In Colab\"/></a>"
      ]
    },
    {
      "cell_type": "markdown",
      "id": "chinese-makeup",
      "metadata": {
        "id": "chinese-makeup"
      },
      "source": [
        "## Busca\n",
        "Mochila 0/1"
      ]
    },
    {
      "cell_type": "markdown",
      "id": "improved-extent",
      "metadata": {
        "id": "improved-extent"
      },
      "source": [
        "### Satisfação de Restrições"
      ]
    },
    {
      "cell_type": "markdown",
      "id": "photographic-senior",
      "metadata": {
        "id": "photographic-senior"
      },
      "source": [
        "Avanço de Estados"
      ]
    },
    {
      "cell_type": "code",
      "execution_count": null,
      "id": "moved-terminology",
      "metadata": {
        "id": "moved-terminology"
      },
      "outputs": [],
      "source": [
        "def step (l):\n",
        "    return [l+[0], l+[1]]\n"
      ]
    },
    {
      "cell_type": "code",
      "execution_count": null,
      "id": "marked-emergency",
      "metadata": {
        "id": "marked-emergency",
        "outputId": "2c1175b6-b617-4563-a6ee-bb2b00d28717"
      },
      "outputs": [
        {
          "data": {
            "text/plain": [
              "[[0], [1]]"
            ]
          },
          "execution_count": 84,
          "metadata": {},
          "output_type": "execute_result"
        }
      ],
      "source": [
        "step ([])"
      ]
    },
    {
      "cell_type": "markdown",
      "id": "committed-basic",
      "metadata": {
        "id": "committed-basic"
      },
      "source": [
        "Expansão de Estados"
      ]
    },
    {
      "cell_type": "code",
      "execution_count": null,
      "id": "concrete-medicine",
      "metadata": {
        "id": "concrete-medicine"
      },
      "outputs": [],
      "source": [
        "def expand(l):\n",
        "    s = []\n",
        "    for i in l:\n",
        "        s += step(i)\n",
        "    return s"
      ]
    },
    {
      "cell_type": "code",
      "execution_count": null,
      "id": "stone-surveillance",
      "metadata": {
        "id": "stone-surveillance",
        "outputId": "ee535d86-d4f4-4423-cd72-fdeb38e46272"
      },
      "outputs": [
        {
          "data": {
            "text/plain": [
              "[[0, 0], [0, 1], [1, 0], [1, 1]]"
            ]
          },
          "execution_count": 25,
          "metadata": {},
          "output_type": "execute_result"
        }
      ],
      "source": [
        "expand (step ([]))"
      ]
    },
    {
      "cell_type": "markdown",
      "id": "potential-hacker",
      "metadata": {
        "id": "potential-hacker"
      },
      "source": [
        "Possíveis Estados"
      ]
    },
    {
      "cell_type": "code",
      "execution_count": null,
      "id": "blank-turner",
      "metadata": {
        "id": "blank-turner"
      },
      "outputs": [],
      "source": [
        "def combine (v):\n",
        "    n = len(v)\n",
        "    l = step ([])\n",
        "    for i in range (n-1):\n",
        "        l = expand(l)\n",
        "    return l"
      ]
    },
    {
      "cell_type": "code",
      "execution_count": null,
      "id": "chubby-factor",
      "metadata": {
        "id": "chubby-factor",
        "outputId": "f74587d7-3899-42c3-c003-abe5e3ac0128"
      },
      "outputs": [
        {
          "data": {
            "text/plain": [
              "[[0, 0, 0],\n",
              " [0, 0, 1],\n",
              " [0, 1, 0],\n",
              " [0, 1, 1],\n",
              " [1, 0, 0],\n",
              " [1, 0, 1],\n",
              " [1, 1, 0],\n",
              " [1, 1, 1]]"
            ]
          },
          "execution_count": 28,
          "metadata": {},
          "output_type": "execute_result"
        }
      ],
      "source": [
        "combine ([1, 7, 4])"
      ]
    },
    {
      "cell_type": "markdown",
      "id": "organized-canon",
      "metadata": {
        "id": "organized-canon"
      },
      "source": [
        "Tamanho de um Estado"
      ]
    },
    {
      "cell_type": "code",
      "execution_count": null,
      "id": "complete-service",
      "metadata": {
        "id": "complete-service"
      },
      "outputs": [],
      "source": [
        "def tamanho(estado, itens):\n",
        "  return sum([estado[i]*itens[i] for i in range(len(estado))])"
      ]
    },
    {
      "cell_type": "code",
      "execution_count": null,
      "id": "devoted-tutorial",
      "metadata": {
        "id": "devoted-tutorial",
        "outputId": "730262f4-aebc-4ed3-a06e-f7a36bf38013"
      },
      "outputs": [
        {
          "data": {
            "text/plain": [
              "5"
            ]
          },
          "execution_count": 53,
          "metadata": {},
          "output_type": "execute_result"
        }
      ],
      "source": [
        "tamanho ([1, 0, 1], [1, 7, 4])"
      ]
    },
    {
      "cell_type": "markdown",
      "id": "impressed-projection",
      "metadata": {
        "id": "impressed-projection"
      },
      "source": [
        "Estado Válido"
      ]
    },
    {
      "cell_type": "code",
      "execution_count": null,
      "id": "headed-crowd",
      "metadata": {
        "id": "headed-crowd"
      },
      "outputs": [],
      "source": [
        "def valido(estado, itens, tMochila):\n",
        "    return tamanho (estado, itens) <= tMochila"
      ]
    },
    {
      "cell_type": "code",
      "execution_count": null,
      "id": "proud-width",
      "metadata": {
        "id": "proud-width",
        "outputId": "184ecfb4-46b3-4499-ee1c-02709319e85f"
      },
      "outputs": [
        {
          "data": {
            "text/plain": [
              "True"
            ]
          },
          "execution_count": 62,
          "metadata": {},
          "output_type": "execute_result"
        }
      ],
      "source": [
        "valido ([1, 0, 1], [1, 7, 4], 8)"
      ]
    },
    {
      "cell_type": "markdown",
      "id": "directed-mauritius",
      "metadata": {
        "id": "directed-mauritius"
      },
      "source": [
        "Converte Estado em Solução"
      ]
    },
    {
      "cell_type": "code",
      "execution_count": null,
      "id": "local-spelling",
      "metadata": {
        "id": "local-spelling"
      },
      "outputs": [],
      "source": [
        "def solucao(estado, itens):\n",
        "  s = []\n",
        "  for i in range(len(estado)):\n",
        "        if estado[i]:\n",
        "            s.append (itens[i])\n",
        "  return s "
      ]
    },
    {
      "cell_type": "code",
      "execution_count": null,
      "id": "desperate-infrared",
      "metadata": {
        "id": "desperate-infrared",
        "outputId": "c382543e-b08c-4141-ce62-5277595a22f0"
      },
      "outputs": [
        {
          "data": {
            "text/plain": [
              "[1, 4]"
            ]
          },
          "execution_count": 55,
          "metadata": {},
          "output_type": "execute_result"
        }
      ],
      "source": [
        "solucao ([1, 0, 1], [1, 7, 4])"
      ]
    },
    {
      "cell_type": "markdown",
      "id": "filled-junior",
      "metadata": {
        "id": "filled-junior"
      },
      "source": [
        "Soluções Mochila 0/1"
      ]
    },
    {
      "cell_type": "code",
      "execution_count": null,
      "id": "cellular-application",
      "metadata": {
        "id": "cellular-application"
      },
      "outputs": [],
      "source": [
        "def buscaCegaMochila01SR (tMochila, itens):\n",
        "    solucoes = []\n",
        "    for s in combine (itens):\n",
        "        if valido (s, itens, tMochila):\n",
        "            solucoes.append ((solucao(s, itens), tamanho (s, itens)))\n",
        "    return solucoes"
      ]
    },
    {
      "cell_type": "code",
      "execution_count": null,
      "id": "romantic-anniversary",
      "metadata": {
        "id": "romantic-anniversary",
        "outputId": "dabd7bd8-1397-4975-bae9-c3b6a448e429"
      },
      "outputs": [
        {
          "data": {
            "text/plain": [
              "[([], 0), ([8], 8), ([7], 7), ([1], 1), ([1, 7], 8)]"
            ]
          },
          "execution_count": 82,
          "metadata": {},
          "output_type": "execute_result"
        }
      ],
      "source": [
        "buscaCegaMochila01SR (8, [1, 7, 8])"
      ]
    },
    {
      "cell_type": "markdown",
      "id": "satisfactory-california",
      "metadata": {
        "id": "satisfactory-california"
      },
      "source": [
        "### Otimização Combinatória\n",
        "Maximizar tamanho ocupado"
      ]
    },
    {
      "cell_type": "code",
      "execution_count": null,
      "id": "rural-international",
      "metadata": {
        "id": "rural-international"
      },
      "outputs": [],
      "source": [
        "def buscaCegaMochila01Max (tMochila, itens):\n",
        "    solucoes = []\n",
        "    melhor = -1\n",
        "    for s in combine (itens):\n",
        "        if valido (s, itens, tMochila):\n",
        "            t = tamanho (s, itens)\n",
        "            if t == melhor:\n",
        "                solucoes.append ((solucao(s, itens), t))\n",
        "            if t > melhor:\n",
        "                melhor = t\n",
        "                solucoes = [(solucao(s, itens), t)]\n",
        "    return solucoes"
      ]
    },
    {
      "cell_type": "code",
      "execution_count": null,
      "id": "plastic-demographic",
      "metadata": {
        "id": "plastic-demographic",
        "outputId": "6a25d0e4-2fc6-4383-a708-dd59594bc194"
      },
      "outputs": [
        {
          "data": {
            "text/plain": [
              "[([1, 7], 8)]"
            ]
          },
          "execution_count": 70,
          "metadata": {},
          "output_type": "execute_result"
        }
      ],
      "source": [
        "buscaCegaMochila01Max (8, [1, 7, 4])"
      ]
    },
    {
      "cell_type": "code",
      "execution_count": null,
      "id": "differential-respect",
      "metadata": {
        "id": "differential-respect",
        "outputId": "29b1c66e-dca5-4103-9db5-c3155a49b8b9"
      },
      "outputs": [
        {
          "data": {
            "text/plain": [
              "[([8], 8), ([1, 7], 8)]"
            ]
          },
          "execution_count": 71,
          "metadata": {},
          "output_type": "execute_result"
        }
      ],
      "source": [
        "buscaCegaMochila01Max (8, [1, 7, 8])"
      ]
    },
    {
      "cell_type": "markdown",
      "id": "interim-landscape",
      "metadata": {
        "id": "interim-landscape"
      },
      "source": [
        "### Classificação\n",
        "Decisão sobre Viagem"
      ]
    },
    {
      "cell_type": "code",
      "execution_count": null,
      "id": "humanitarian-standard",
      "metadata": {
        "id": "humanitarian-standard"
      },
      "outputs": [],
      "source": [
        "def irAPraia (aparencia, ventando, umidade):\n",
        "    if aparencia == \"Sol\" and (ventando == \"Nao\"):\n",
        "        return \"Ir\"\n",
        "    elif aparencia == \"Nublado\" and (umidade > 60):\n",
        "        return \"Ir\"\n",
        "    else:\n",
        "        return \"Não Ir\""
      ]
    },
    {
      "cell_type": "code",
      "execution_count": null,
      "id": "divided-correlation",
      "metadata": {
        "id": "divided-correlation",
        "outputId": "bbc8ac86-a212-47fc-9b8c-98678ab14d5a"
      },
      "outputs": [
        {
          "data": {
            "text/plain": [
              "'Ir'"
            ]
          },
          "execution_count": 75,
          "metadata": {},
          "output_type": "execute_result"
        }
      ],
      "source": [
        "irAPraia (\"Sol\", \"Nao\", 50)"
      ]
    },
    {
      "cell_type": "code",
      "execution_count": null,
      "id": "together-vietnamese",
      "metadata": {
        "id": "together-vietnamese",
        "outputId": "060def57-cb91-4465-da08-cf254de967b8"
      },
      "outputs": [
        {
          "data": {
            "text/plain": [
              "'Ir'"
            ]
          },
          "execution_count": 76,
          "metadata": {},
          "output_type": "execute_result"
        }
      ],
      "source": [
        "irAPraia (\"Nublado\", \"Nao\", 70)"
      ]
    },
    {
      "cell_type": "code",
      "execution_count": null,
      "id": "common-hurricane",
      "metadata": {
        "id": "common-hurricane",
        "outputId": "165b2028-e971-4314-aeb9-02f4bba475af"
      },
      "outputs": [
        {
          "data": {
            "text/plain": [
              "'Não Ir'"
            ]
          },
          "execution_count": 77,
          "metadata": {},
          "output_type": "execute_result"
        }
      ],
      "source": [
        "irAPraia (\"Chuva\", \"Nao\", 70)"
      ]
    },
    {
      "cell_type": "markdown",
      "id": "mechanical-shopper",
      "metadata": {
        "id": "mechanical-shopper"
      },
      "source": [
        "### Regressão\n",
        "Regressão linear de distribuição perfeita\n",
        "y = a.x + b\n",
        "dx = x1 - x0\n",
        "dy = y1 - y0\n",
        "a = dy / dx\n",
        "b = y - a.x"
      ]
    },
    {
      "cell_type": "code",
      "execution_count": null,
      "id": "patient-channels",
      "metadata": {
        "id": "patient-channels",
        "outputId": "d91a08f8-7e6d-48a9-ca3d-1e133a9d0f8e"
      },
      "outputs": [
        {
          "name": "stdout",
          "output_type": "stream",
          "text": [
            "5.0\n",
            "8.0\n",
            "11.0\n",
            "26.0\n"
          ]
        }
      ],
      "source": [
        "x = [1.0, 2.0, 3.0]\n",
        "y = [5.0, 8.0, 11.0]\n",
        "dx = 2.0 - 1.0\n",
        "dy = 8.0 - 5.0\n",
        "a = dy / dx\n",
        "b = 8.0 - a*2.0\n",
        "print (a*1 + b)\n",
        "print (a*2 + b)\n",
        "print (a*3 + b)\n",
        "print (a*8 + b)"
      ]
    },
    {
      "cell_type": "markdown",
      "id": "announced-growth",
      "metadata": {
        "id": "announced-growth"
      },
      "source": [
        "### Agrupamento\n",
        "Hierárquico divisivo"
      ]
    },
    {
      "cell_type": "code",
      "execution_count": null,
      "id": "complimentary-residence",
      "metadata": {
        "id": "complimentary-residence"
      },
      "outputs": [],
      "source": [
        "k = 3\n",
        "x = [7.3, 3.8, 9.4, 8.7, 9.9, 8.8, 1.0, 2.1, 7.2]"
      ]
    },
    {
      "cell_type": "markdown",
      "id": "overall-chicken",
      "metadata": {
        "id": "overall-chicken"
      },
      "source": [
        "### Associação\n",
        "Itens frequentes em transações"
      ]
    },
    {
      "cell_type": "markdown",
      "id": "grateful-lending",
      "metadata": {
        "id": "grateful-lending"
      },
      "source": [
        "### Exercícios de Fixação"
      ]
    },
    {
      "cell_type": "markdown",
      "id": "least-throw",
      "metadata": {
        "id": "least-throw"
      },
      "source": [
        "1. Apresentar suas respostas para as seguintes questões: \n",
        "\n",
        "a) O que é Inteligência? \n",
        "\n",
        "R: A origem etimológica da palavra intelgência refere-se a capacidade de discernimento. A palavra latina intelligentia provém de intelligere, termo composto por intus (entre) e legere, que significa escolher ou ler. Ser inteligente é, assim, saber escolher a melhor alternativa entre várias, mas também saber ler dentro das coisas. Definição dada pelos manuais de psicologia: é a capacidade e a habilidade para responder da maneira mais adequada possível às exigências que o mundo apresenta. \n",
        "\n",
        "b) Inteligência é propriedade humana?\n",
        "R: Tomando como base a definição acima, eu não acredito que inteligência seja propriedade humana, pois vários animais são capazes de escolher com base em contextos específicos. A diferença é que o animal escolhe com base no instinto enquando o ser humano escolhe (ou pelo menos deveria escolher) com base na razão.  \n",
        "\n",
        "c) Máquinas podem pensar? \n",
        "R: Primeiramente é importante definir o que é pensar. Ao procurar a oriem etimológica da palavra pensar encontrei o seguinte:\n",
        "\n",
        "A palavra pensar tem origem no latim “pensare”, que significa pesar ou avaliar o peso de algo. Logo, o pensamento é um processo mental que reside na mente humana e proporciona ao ser humano modelar a sua percepção do mundo....O pensamento pode implicar uma série de operações racionais, como a análise, a síntese, a comparação, a generalização e a abstração. \n",
        "\n",
        "Eu não acredito que as máquinas podem pensar porque elas não possuem a capacidade de abstração. Máquinas são capazes de analisar, sintetisar, comparar e generalizar, mas não acho que elas sejam capazes de abtrair e de gerar algo novo. Mas fica o questionamento: será que o ser humando em si é capaz de produzir algo inteiramente novo?\n",
        "\n",
        "d) Máquinas podem aprender?\n",
        "R: Eu acredito que máquinas sejam capazes de aprender. No entanto, elas não são capazes de gerar novos aprendizados/conhecimentos. Para fazer isso as máquinas teriam que possuir inteligência e deveriam ser capazes de pensar, mas acho que seja complexo concluir com exatidão um parecer sobre isso."
      ]
    },
    {
      "cell_type": "markdown",
      "id": "narrative-federation",
      "metadata": {
        "id": "narrative-federation"
      },
      "source": [
        "2. Indicar quais das seguintes atividades você considera ser inteligente: \n",
        "\n",
        "a) Matemático deduzindo teoremas; \n",
        "\n",
        "b) Rato encontrando saída em labirinto; \n",
        "\n",
        "c) Ser humano explicando alguma ação; \n",
        "\n",
        "d) Máquina de calcular operando; \n",
        "\n",
        "e) Humano fazendo programas de computador; \n",
        "\n",
        "f) Vírus fugindo de anticorpos; \n",
        "\n",
        "g) Castor construindo represa. \n",
        "\n",
        "Justifique suas respostas.\n",
        "\n",
        "R: Acredito que as opções todas as opções acima exceto a letra d) não atividades inteligentes se levarmos em consideração a inteligência como a ação de escolher com base em um contexto tendo como base o pensamento. A máquina são desenvolveu um racicio para calcular a operação, ela apenas foi programada para isso. "
      ]
    },
    {
      "cell_type": "markdown",
      "id": "sorted-protest",
      "metadata": {
        "id": "sorted-protest"
      },
      "source": [
        "3. Na sua opinião existe associação entre inteligência e uso de linguagem escrita? Justifique."
      ]
    },
    {
      "cell_type": "markdown",
      "id": "academic-colorado",
      "metadata": {
        "id": "academic-colorado"
      },
      "source": [
        "4. Definir conhecimento. Como se transmite conhecimento?"
      ]
    },
    {
      "cell_type": "markdown",
      "id": "distributed-swing",
      "metadata": {
        "id": "distributed-swing"
      },
      "source": [
        "5. Ler artigo de Turing."
      ]
    },
    {
      "cell_type": "markdown",
      "id": "running-checklist",
      "metadata": {
        "id": "running-checklist"
      },
      "source": [
        "6. Citar todas objeções a visão de que máquinas podem ser inteligentes relatadas por Turing."
      ]
    },
    {
      "cell_type": "markdown",
      "id": "running-pattern",
      "metadata": {
        "id": "running-pattern"
      },
      "source": [
        "7. Escolher uma das objeções, explicá-la e o contra-argumento apresentado por Turing."
      ]
    },
    {
      "cell_type": "markdown",
      "id": "overhead-luxury",
      "metadata": {
        "id": "overhead-luxury"
      },
      "source": [
        "8. Como Turing propõe resolver o problema de determinar se uma máquina é inteligente?"
      ]
    },
    {
      "cell_type": "markdown",
      "id": "greek-resistance",
      "metadata": {
        "id": "greek-resistance"
      },
      "source": [
        "9. Na visão de Turing, como as máquinas poderão se tornar inteligentes?"
      ]
    },
    {
      "cell_type": "markdown",
      "id": "municipal-gravity",
      "metadata": {
        "id": "municipal-gravity"
      },
      "source": [
        "10. Como você se posiciona em relação a questão das abordagens simbólica e estatística na Inteligência Artificial?"
      ]
    },
    {
      "cell_type": "markdown",
      "id": "animal-crazy",
      "metadata": {
        "id": "animal-crazy"
      },
      "source": [
        "11. Qual a sua opinião sobre a IA fraca e a IA forte?"
      ]
    },
    {
      "cell_type": "markdown",
      "id": "passive-atlas",
      "metadata": {
        "id": "passive-atlas"
      },
      "source": [
        "12. Diferenciar satisfação de restrições e otimização em problemas de busca."
      ]
    },
    {
      "cell_type": "markdown",
      "id": "correct-novel",
      "metadata": {
        "id": "correct-novel"
      },
      "source": [
        "13. Diferenciar problemas de classificação e regressão."
      ]
    },
    {
      "cell_type": "markdown",
      "id": "daily-trail",
      "metadata": {
        "id": "daily-trail"
      },
      "source": [
        "14. Indicar os tipos de padrões que se procura identificar nos problemas de agrupamento e de associação."
      ]
    },
    {
      "cell_type": "markdown",
      "id": "scheduled-advertiser",
      "metadata": {
        "id": "scheduled-advertiser"
      },
      "source": [
        "15. O que acontecerá na execução dos algoritmos apresentados para a solução do problema da Mochila 0/1 se o número de itens crescer de forma demasiada? Por que isso ocorre? Tente aumentar gradualmente o número de itens e verifique o que ocorre. Relate."
      ]
    },
    {
      "cell_type": "markdown",
      "id": "likely-symposium",
      "metadata": {
        "id": "likely-symposium"
      },
      "source": [
        "16. Considere que no problema da mochila 0/1 cada um dos itens disponíveis tem um valor e que o objetivo é encher a mochila para maximizar o valor agregado dos ítens colocados na mochila. Refaça a solução em python apresentada anteriormente para resolver este problema."
      ]
    },
    {
      "cell_type": "markdown",
      "id": "cross-prevention",
      "metadata": {
        "id": "cross-prevention"
      },
      "source": [
        "17. Implemente o algoritmo de agrupamento hierárquico divisivo para dados unidimensionais."
      ]
    },
    {
      "cell_type": "markdown",
      "id": "representative-check",
      "metadata": {
        "id": "representative-check"
      },
      "source": [
        "18. Altere o algoritmo de agrupamento hierárquico divisivo para considerar dados multidimensionais numéricos. Indique o que necessita ser feito para aplicar o algoritmo da questão 10 aqui. Qual a maior dificuldade para isso? Proponha uma solução para contornar essa dificuldade. Indique casos em que essa solução pode não ser satisfatória. Implemente a sua solução."
      ]
    }
  ],
  "metadata": {
    "kernelspec": {
      "display_name": "Python 3",
      "language": "python",
      "name": "python3"
    },
    "language_info": {
      "codemirror_mode": {
        "name": "ipython",
        "version": 3
      },
      "file_extension": ".py",
      "mimetype": "text/x-python",
      "name": "python",
      "nbconvert_exporter": "python",
      "pygments_lexer": "ipython3",
      "version": "3.6.7"
    },
    "colab": {
      "name": "Introducao.ipynb",
      "provenance": [],
      "include_colab_link": true
    }
  },
  "nbformat": 4,
  "nbformat_minor": 5
}