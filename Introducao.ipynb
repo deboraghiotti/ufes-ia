{
  "cells": [
    {
      "cell_type": "markdown",
      "metadata": {
        "id": "view-in-github",
        "colab_type": "text"
      },
      "source": [
        "<a href=\"https://colab.research.google.com/github/deboraghiotti/ufes-ia/blob/aula1-introducao/Introducao.ipynb\" target=\"_parent\"><img src=\"https://colab.research.google.com/assets/colab-badge.svg\" alt=\"Open In Colab\"/></a>"
      ]
    },
    {
      "cell_type": "markdown",
      "id": "chinese-makeup",
      "metadata": {
        "id": "chinese-makeup"
      },
      "source": [
        "## Busca\n",
        "Mochila 0/1"
      ]
    },
    {
      "cell_type": "markdown",
      "id": "improved-extent",
      "metadata": {
        "id": "improved-extent"
      },
      "source": [
        "### Satisfação de Restrições"
      ]
    },
    {
      "cell_type": "markdown",
      "id": "photographic-senior",
      "metadata": {
        "id": "photographic-senior"
      },
      "source": [
        "Avanço de Estados"
      ]
    },
    {
      "cell_type": "markdown",
      "id": "satisfactory-california",
      "metadata": {
        "id": "satisfactory-california"
      },
      "source": [
        "### Otimização Combinatória\n",
        "Maximizar tamanho ocupado"
      ]
    },
    {
      "cell_type": "markdown",
      "id": "interim-landscape",
      "metadata": {
        "id": "interim-landscape"
      },
      "source": [
        "### Classificação\n",
        "Decisão sobre Viagem"
      ]
    },
    {
      "cell_type": "code",
      "execution_count": null,
      "id": "humanitarian-standard",
      "metadata": {
        "id": "humanitarian-standard"
      },
      "outputs": [],
      "source": [
        "def irAPraia (aparencia, ventando, umidade):\n",
        "    if aparencia == \"Sol\" and (ventando == \"Nao\"):\n",
        "        return \"Ir\"\n",
        "    elif aparencia == \"Nublado\" and (umidade > 60):\n",
        "        return \"Ir\"\n",
        "    else:\n",
        "        return \"Não Ir\""
      ]
    },
    {
      "cell_type": "code",
      "execution_count": null,
      "id": "divided-correlation",
      "metadata": {
        "id": "divided-correlation",
        "outputId": "bbc8ac86-a212-47fc-9b8c-98678ab14d5a"
      },
      "outputs": [
        {
          "data": {
            "text/plain": [
              "'Ir'"
            ]
          },
          "execution_count": 75,
          "metadata": {},
          "output_type": "execute_result"
        }
      ],
      "source": [
        "irAPraia (\"Sol\", \"Nao\", 50)"
      ]
    },
    {
      "cell_type": "code",
      "execution_count": null,
      "id": "together-vietnamese",
      "metadata": {
        "id": "together-vietnamese",
        "outputId": "060def57-cb91-4465-da08-cf254de967b8"
      },
      "outputs": [
        {
          "data": {
            "text/plain": [
              "'Ir'"
            ]
          },
          "execution_count": 76,
          "metadata": {},
          "output_type": "execute_result"
        }
      ],
      "source": [
        "irAPraia (\"Nublado\", \"Nao\", 70)"
      ]
    },
    {
      "cell_type": "code",
      "execution_count": null,
      "id": "common-hurricane",
      "metadata": {
        "id": "common-hurricane",
        "outputId": "165b2028-e971-4314-aeb9-02f4bba475af"
      },
      "outputs": [
        {
          "data": {
            "text/plain": [
              "'Não Ir'"
            ]
          },
          "execution_count": 77,
          "metadata": {},
          "output_type": "execute_result"
        }
      ],
      "source": [
        "irAPraia (\"Chuva\", \"Nao\", 70)"
      ]
    },
    {
      "cell_type": "markdown",
      "id": "mechanical-shopper",
      "metadata": {
        "id": "mechanical-shopper"
      },
      "source": [
        "### Regressão\n",
        "Regressão linear de distribuição perfeita\n",
        "y = a.x + b\n",
        "dx = x1 - x0\n",
        "dy = y1 - y0\n",
        "a = dy / dx\n",
        "b = y - a.x"
      ]
    },
    {
      "cell_type": "code",
      "execution_count": null,
      "id": "patient-channels",
      "metadata": {
        "id": "patient-channels",
        "outputId": "d91a08f8-7e6d-48a9-ca3d-1e133a9d0f8e"
      },
      "outputs": [
        {
          "name": "stdout",
          "output_type": "stream",
          "text": [
            "5.0\n",
            "8.0\n",
            "11.0\n",
            "26.0\n"
          ]
        }
      ],
      "source": [
        "x = [1.0, 2.0, 3.0]\n",
        "y = [5.0, 8.0, 11.0]\n",
        "dx = 2.0 - 1.0\n",
        "dy = 8.0 - 5.0\n",
        "a = dy / dx\n",
        "b = 8.0 - a*2.0\n",
        "print (a*1 + b)\n",
        "print (a*2 + b)\n",
        "print (a*3 + b)\n",
        "print (a*8 + b)"
      ]
    },
    {
      "cell_type": "markdown",
      "id": "announced-growth",
      "metadata": {
        "id": "announced-growth"
      },
      "source": [
        "### Agrupamento\n",
        "Hierárquico divisivo"
      ]
    },
    {
      "cell_type": "code",
      "execution_count": null,
      "id": "complimentary-residence",
      "metadata": {
        "id": "complimentary-residence"
      },
      "outputs": [],
      "source": [
        "k = 3\n",
        "x = [7.3, 3.8, 9.4, 8.7, 9.9, 8.8, 1.0, 2.1, 7.2]"
      ]
    },
    {
      "cell_type": "markdown",
      "id": "overall-chicken",
      "metadata": {
        "id": "overall-chicken"
      },
      "source": [
        "### Associação\n",
        "Itens frequentes em transações"
      ]
    },
    {
      "cell_type": "markdown",
      "id": "grateful-lending",
      "metadata": {
        "id": "grateful-lending"
      },
      "source": [
        "### Exercícios de Fixação"
      ]
    },
    {
      "cell_type": "markdown",
      "id": "least-throw",
      "metadata": {
        "id": "least-throw"
      },
      "source": [
        "## Q1 - Apresentar suas respostas para as seguintes questões: \n",
        "\n",
        "a) O que é Inteligência? \n",
        "\n",
        "R: A origem etimológica da palavra intelgência refere-se a capacidade de discernimento. A palavra latina intelligentia provém de intelligere, termo composto por intus (entre) e legere, que significa escolher ou ler. Ser inteligente é, assim, saber escolher a melhor alternativa entre várias, mas também saber ler dentro das coisas. Definição dada pelos manuais de psicologia: é a capacidade e a habilidade para responder da maneira mais adequada possível às exigências que o mundo apresenta. \n",
        "\n",
        "b) Inteligência é propriedade humana?\n",
        "R: Tomando como base a definição acima, eu não acredito que inteligência seja propriedade humana, pois vários animais são capazes de escolher com base em contextos específicos. A diferença é que o animal escolhe com base no instinto enquando o ser humano escolhe (ou pelo menos deveria escolher) com base na razão.  \n",
        "\n",
        "c) Máquinas podem pensar? \n",
        "R: Primeiramente é importante definir o que é pensar. Ao procurar a oriem etimológica da palavra pensar encontrei o seguinte:\n",
        "\n",
        "A palavra pensar tem origem no latim “pensare”, que significa pesar ou avaliar o peso de algo. Logo, o pensamento é um processo mental que reside na mente humana e proporciona ao ser humano modelar a sua percepção do mundo....O pensamento pode implicar uma série de operações racionais, como a análise, a síntese, a comparação, a generalização e a abstração. \n",
        "\n",
        "Eu não acredito que as máquinas podem pensar porque elas não possuem a capacidade de abstração. Máquinas são capazes de analisar, sintetisar, comparar e generalizar, mas não acho que elas sejam capazes de abtrair e de gerar algo novo. Mas fica o questionamento: será que o ser humando em si é capaz de produzir algo inteiramente novo?\n",
        "\n",
        "d) Máquinas podem aprender?\n",
        "R: Eu acredito que máquinas sejam capazes de aprender. No entanto, elas não são capazes de gerar novos aprendizados/conhecimentos. Para fazer isso as máquinas teriam que possuir inteligência e deveriam ser capazes de pensar, mas acho que seja complexo concluir com exatidão um parecer sobre isso."
      ]
    },
    {
      "cell_type": "markdown",
      "id": "narrative-federation",
      "metadata": {
        "id": "narrative-federation"
      },
      "source": [
        "## Q2 - Indicar quais das seguintes atividades você considera ser inteligente: \n",
        "\n",
        "a) Matemático deduzindo teoremas; \n",
        "\n",
        "b) Rato encontrando saída em labirinto; \n",
        "\n",
        "c) Ser humano explicando alguma ação; \n",
        "\n",
        "d) Máquina de calcular operando; \n",
        "\n",
        "e) Humano fazendo programas de computador; \n",
        "\n",
        "f) Vírus fugindo de anticorpos; \n",
        "\n",
        "g) Castor construindo represa. \n",
        "\n",
        "Justifique suas respostas.\n",
        "\n",
        "R: Acredito que as opções todas as opções acima exceto a letra d) não atividades inteligentes se levarmos em consideração a inteligência como a ação de escolher com base em um contexto tendo como base o pensamento. A máquina são desenvolveu um racicio para calcular a operação, ela apenas foi programada para isso. "
      ]
    },
    {
      "cell_type": "markdown",
      "id": "sorted-protest",
      "metadata": {
        "id": "sorted-protest"
      },
      "source": [
        "3. Na sua opinião existe associação entre inteligência e uso de linguagem escrita? Justifique."
      ]
    },
    {
      "cell_type": "markdown",
      "id": "academic-colorado",
      "metadata": {
        "id": "academic-colorado"
      },
      "source": [
        "4. Definir conhecimento. Como se transmite conhecimento?"
      ]
    },
    {
      "cell_type": "markdown",
      "id": "distributed-swing",
      "metadata": {
        "id": "distributed-swing"
      },
      "source": [
        "5. Ler artigo de Turing."
      ]
    },
    {
      "cell_type": "markdown",
      "id": "running-checklist",
      "metadata": {
        "id": "running-checklist"
      },
      "source": [
        "6. Citar todas objeções a visão de que máquinas podem ser inteligentes relatadas por Turing."
      ]
    },
    {
      "cell_type": "markdown",
      "id": "running-pattern",
      "metadata": {
        "id": "running-pattern"
      },
      "source": [
        "7. Escolher uma das objeções, explicá-la e o contra-argumento apresentado por Turing."
      ]
    },
    {
      "cell_type": "markdown",
      "id": "overhead-luxury",
      "metadata": {
        "id": "overhead-luxury"
      },
      "source": [
        "8. Como Turing propõe resolver o problema de determinar se uma máquina é inteligente?"
      ]
    },
    {
      "cell_type": "markdown",
      "id": "greek-resistance",
      "metadata": {
        "id": "greek-resistance"
      },
      "source": [
        "9. Na visão de Turing, como as máquinas poderão se tornar inteligentes?"
      ]
    },
    {
      "cell_type": "markdown",
      "id": "municipal-gravity",
      "metadata": {
        "id": "municipal-gravity"
      },
      "source": [
        "10. Como você se posiciona em relação a questão das abordagens simbólica e estatística na Inteligência Artificial?"
      ]
    },
    {
      "cell_type": "markdown",
      "id": "animal-crazy",
      "metadata": {
        "id": "animal-crazy"
      },
      "source": [
        "11. Qual a sua opinião sobre a IA fraca e a IA forte?"
      ]
    },
    {
      "cell_type": "markdown",
      "id": "passive-atlas",
      "metadata": {
        "id": "passive-atlas"
      },
      "source": [
        "12. Diferenciar satisfação de restrições e otimização em problemas de busca."
      ]
    },
    {
      "cell_type": "markdown",
      "id": "correct-novel",
      "metadata": {
        "id": "correct-novel"
      },
      "source": [
        "13. Diferenciar problemas de classificação e regressão."
      ]
    },
    {
      "cell_type": "markdown",
      "id": "daily-trail",
      "metadata": {
        "id": "daily-trail"
      },
      "source": [
        "14. Indicar os tipos de padrões que se procura identificar nos problemas de agrupamento e de associação."
      ]
    },
    {
      "cell_type": "markdown",
      "id": "scheduled-advertiser",
      "metadata": {
        "id": "scheduled-advertiser"
      },
      "source": [
        "15. O que acontecerá na execução dos algoritmos apresentados para a solução do problema da Mochila 0/1 se o número de itens crescer de forma demasiada? Por que isso ocorre? Tente aumentar gradualmente o número de itens e verifique o que ocorre. Relate."
      ]
    },
    {
      "cell_type": "markdown",
      "id": "likely-symposium",
      "metadata": {
        "id": "likely-symposium"
      },
      "source": [
        "## Q16 -  Considere que no problema da mochila 0/1 cada um dos itens disponíveis tem um valor e que o objetivo é encher a mochila para maximizar o valor agregado dos ítens colocados na mochila. Refaça a solução em python apresentada anteriormente para resolver este problema."
      ]
    },
    {
      "cell_type": "code",
      "execution_count": 4,
      "id": "moved-terminology",
      "metadata": {
        "id": "moved-terminology"
      },
      "outputs": [],
      "source": [
        "def step (l):\n",
        "    return [l+[0], l+[1]]\n"
      ]
    },
    {
      "cell_type": "code",
      "execution_count": 5,
      "id": "marked-emergency",
      "metadata": {
        "id": "marked-emergency",
        "outputId": "069cd9bf-eacd-497b-caac-76d053f94717",
        "colab": {
          "base_uri": "https://localhost:8080/"
        }
      },
      "outputs": [
        {
          "output_type": "execute_result",
          "data": {
            "text/plain": [
              "[[0], [1]]"
            ]
          },
          "metadata": {},
          "execution_count": 5
        }
      ],
      "source": [
        "step ([])"
      ]
    },
    {
      "cell_type": "code",
      "execution_count": 11,
      "id": "concrete-medicine",
      "metadata": {
        "id": "concrete-medicine"
      },
      "outputs": [],
      "source": [
        "# Expansão de estados\n",
        "def expand(l):\n",
        "    s = []\n",
        "    for i in l:\n",
        "        s += step(i)\n",
        "    return s"
      ]
    },
    {
      "cell_type": "code",
      "execution_count": 12,
      "id": "blank-turner",
      "metadata": {
        "id": "blank-turner"
      },
      "outputs": [],
      "source": [
        "# Possiveis estados\n",
        "def combine (v):\n",
        "    n = len(v)\n",
        "    l = step ([])\n",
        "    for i in range (n-1):\n",
        "        l = expand(l)\n",
        "    return l"
      ]
    },
    {
      "cell_type": "code",
      "execution_count": 13,
      "id": "chubby-factor",
      "metadata": {
        "id": "chubby-factor",
        "outputId": "559b13d4-ee83-43fc-d88d-9e15c604b52d",
        "colab": {
          "base_uri": "https://localhost:8080/"
        }
      },
      "outputs": [
        {
          "output_type": "execute_result",
          "data": {
            "text/plain": [
              "[[0, 0, 0],\n",
              " [0, 0, 1],\n",
              " [0, 1, 0],\n",
              " [0, 1, 1],\n",
              " [1, 0, 0],\n",
              " [1, 0, 1],\n",
              " [1, 1, 0],\n",
              " [1, 1, 1]]"
            ]
          },
          "metadata": {},
          "execution_count": 13
        }
      ],
      "source": [
        "combine ([1, 7, 4])"
      ]
    },
    {
      "cell_type": "code",
      "execution_count": 14,
      "id": "complete-service",
      "metadata": {
        "id": "complete-service"
      },
      "outputs": [],
      "source": [
        "# Tamamho de um estado\n",
        "def tamanho(estado, itens):\n",
        "  return sum([estado[i]*itens[i] for i in range(len(estado))])"
      ]
    },
    {
      "cell_type": "code",
      "execution_count": 15,
      "id": "devoted-tutorial",
      "metadata": {
        "id": "devoted-tutorial",
        "outputId": "a564951c-c237-4925-f1db-d2e3249a0728",
        "colab": {
          "base_uri": "https://localhost:8080/"
        }
      },
      "outputs": [
        {
          "output_type": "execute_result",
          "data": {
            "text/plain": [
              "5"
            ]
          },
          "metadata": {},
          "execution_count": 15
        }
      ],
      "source": [
        "tamanho ([1, 0, 1], [1, 7, 4])"
      ]
    },
    {
      "cell_type": "code",
      "execution_count": 16,
      "id": "headed-crowd",
      "metadata": {
        "id": "headed-crowd"
      },
      "outputs": [],
      "source": [
        "# Estado valido\n",
        "def valido(estado, itens, tMochila):\n",
        "    return tamanho (estado, itens) <= tMochila"
      ]
    },
    {
      "cell_type": "code",
      "execution_count": 17,
      "id": "proud-width",
      "metadata": {
        "id": "proud-width",
        "outputId": "6bde3281-6f3e-4987-cf8b-c5273b77f7a5",
        "colab": {
          "base_uri": "https://localhost:8080/"
        }
      },
      "outputs": [
        {
          "output_type": "execute_result",
          "data": {
            "text/plain": [
              "True"
            ]
          },
          "metadata": {},
          "execution_count": 17
        }
      ],
      "source": [
        "valido ([1, 0, 1], [1, 7, 4], 8)"
      ]
    },
    {
      "cell_type": "code",
      "execution_count": 18,
      "id": "local-spelling",
      "metadata": {
        "id": "local-spelling"
      },
      "outputs": [],
      "source": [
        "# Converte estado em solução\n",
        "def solucao(estado, itens):\n",
        "  s = []\n",
        "  for i in range(len(estado)):\n",
        "        if estado[i]:\n",
        "            s.append (itens[i])\n",
        "  return s "
      ]
    },
    {
      "cell_type": "code",
      "execution_count": 19,
      "id": "desperate-infrared",
      "metadata": {
        "id": "desperate-infrared",
        "outputId": "6224126d-7578-48fa-9f28-b44df45eb8dc",
        "colab": {
          "base_uri": "https://localhost:8080/"
        }
      },
      "outputs": [
        {
          "output_type": "execute_result",
          "data": {
            "text/plain": [
              "[1, 4]"
            ]
          },
          "metadata": {},
          "execution_count": 19
        }
      ],
      "source": [
        "solucao ([1, 0, 1], [1, 7, 4])"
      ]
    },
    {
      "cell_type": "code",
      "execution_count": 20,
      "id": "cellular-application",
      "metadata": {
        "id": "cellular-application"
      },
      "outputs": [],
      "source": [
        "# Soluções Mochila 0/1\n",
        "def buscaCegaMochila01SR (tMochila, itens):\n",
        "    solucoes = []\n",
        "    for s in combine (itens):\n",
        "        if valido (s, itens, tMochila):\n",
        "            solucoes.append ((solucao(s, itens), tamanho (s, itens)))\n",
        "    return solucoes"
      ]
    },
    {
      "cell_type": "code",
      "execution_count": 21,
      "id": "romantic-anniversary",
      "metadata": {
        "id": "romantic-anniversary",
        "outputId": "84691deb-91e7-4447-cd80-3b72f9d57b68",
        "colab": {
          "base_uri": "https://localhost:8080/"
        }
      },
      "outputs": [
        {
          "output_type": "execute_result",
          "data": {
            "text/plain": [
              "[([], 0), ([8], 8), ([7], 7), ([1], 1), ([1, 7], 8)]"
            ]
          },
          "metadata": {},
          "execution_count": 21
        }
      ],
      "source": [
        "buscaCegaMochila01SR (8, [1, 7, 8])"
      ]
    },
    {
      "cell_type": "code",
      "execution_count": 22,
      "id": "rural-international",
      "metadata": {
        "id": "rural-international"
      },
      "outputs": [],
      "source": [
        "def buscaCegaMochila01Max (tMochila, itens):\n",
        "    solucoes = []\n",
        "    melhor = -1\n",
        "    for s in combine (itens):\n",
        "        if valido (s, itens, tMochila):\n",
        "            t = tamanho (s, itens)\n",
        "            if t == melhor:\n",
        "                solucoes.append ((solucao(s, itens), t))\n",
        "            if t > melhor:\n",
        "                melhor = t\n",
        "                solucoes = [(solucao(s, itens), t)]\n",
        "    return solucoes"
      ]
    },
    {
      "cell_type": "code",
      "execution_count": 23,
      "id": "plastic-demographic",
      "metadata": {
        "id": "plastic-demographic",
        "outputId": "b6594a15-df51-42f9-e12b-9b451795ca7c",
        "colab": {
          "base_uri": "https://localhost:8080/"
        }
      },
      "outputs": [
        {
          "output_type": "execute_result",
          "data": {
            "text/plain": [
              "[([1, 7], 8)]"
            ]
          },
          "metadata": {},
          "execution_count": 23
        }
      ],
      "source": [
        "buscaCegaMochila01Max (8, [1, 7, 4])"
      ]
    },
    {
      "cell_type": "code",
      "execution_count": 24,
      "id": "differential-respect",
      "metadata": {
        "id": "differential-respect",
        "outputId": "dfa7a136-acee-409c-eb00-260d12554db2",
        "colab": {
          "base_uri": "https://localhost:8080/"
        }
      },
      "outputs": [
        {
          "output_type": "execute_result",
          "data": {
            "text/plain": [
              "[([8], 8), ([1, 7], 8)]"
            ]
          },
          "metadata": {},
          "execution_count": 24
        }
      ],
      "source": [
        "buscaCegaMochila01Max (8, [1, 7, 8])"
      ]
    },
    {
      "cell_type": "markdown",
      "source": [
        "### Versão modificada"
      ],
      "metadata": {
        "id": "NKR5NW_9l_Il"
      },
      "id": "NKR5NW_9l_Il"
    },
    {
      "cell_type": "code",
      "source": [
        "def valor_mochila(itens):\n",
        "  valor = 0\n",
        "  for i in itens:\n",
        "    valor = valor + i[1]\n",
        "  return valor"
      ],
      "metadata": {
        "id": "sPjbai_gic8f"
      },
      "id": "sPjbai_gic8f",
      "execution_count": 27,
      "outputs": []
    },
    {
      "cell_type": "code",
      "source": [
        "valor_mochila([(1,20),(7,30), (8,50)])"
      ],
      "metadata": {
        "id": "jCJ4OdRZitCz",
        "outputId": "7a3d6ef9-cfe9-4b87-dc4d-57a50aec5ae8",
        "colab": {
          "base_uri": "https://localhost:8080/"
        }
      },
      "id": "jCJ4OdRZitCz",
      "execution_count": 28,
      "outputs": [
        {
          "output_type": "execute_result",
          "data": {
            "text/plain": [
              "100"
            ]
          },
          "metadata": {},
          "execution_count": 28
        }
      ]
    },
    {
      "cell_type": "code",
      "source": [
        "# Converte estado em solução\n",
        "def solucao_modified(estado, itens):\n",
        "  s = []\n",
        "  for i in range(len(estado)):\n",
        "        if estado[i]:\n",
        "            s.append (itens[i])\n",
        "  return s "
      ],
      "metadata": {
        "id": "Vr0T9zSEkQiv"
      },
      "id": "Vr0T9zSEkQiv",
      "execution_count": 46,
      "outputs": []
    },
    {
      "cell_type": "code",
      "source": [
        "# Tamamho de um estado\n",
        "def tamanho_modified(estado, itens):\n",
        "  return sum([estado[i]*itens[i][0] for i in range(len(estado))])"
      ],
      "metadata": {
        "id": "IgkZO-XAj2HO"
      },
      "id": "IgkZO-XAj2HO",
      "execution_count": 47,
      "outputs": []
    },
    {
      "cell_type": "code",
      "source": [
        "# Estado valido\n",
        "def valido_modified(estado, itens, tMochila):\n",
        "    return tamanho_modified(estado, itens) <= tMochila"
      ],
      "metadata": {
        "id": "U69LeJfjjtZ3"
      },
      "id": "U69LeJfjjtZ3",
      "execution_count": 48,
      "outputs": []
    },
    {
      "cell_type": "code",
      "source": [
        "# Soluções Mochila 0/1\n",
        "def buscaCegaMochila01Max_Valor (tMochila, itens):\n",
        "    solucoes = []\n",
        "    max_valor = 0\n",
        "   \n",
        "    for s in combine (itens):\n",
        "        if valido_modified(s, itens, tMochila):\n",
        "            solucao_valida = solucao_modified(s,itens)\n",
        "            valor_solucao_valida = valor_mochila(solucao_valida)\n",
        "            if(valor_solucao_valida > max_valor):\n",
        "              max_valor = valor_solucao_valida\n",
        "              solucoes = solucao_valida\n",
        "  \n",
        "    return solucoes"
      ],
      "metadata": {
        "id": "HKHuCe7EetT2"
      },
      "id": "HKHuCe7EetT2",
      "execution_count": 51,
      "outputs": []
    },
    {
      "cell_type": "code",
      "source": [
        "buscaCegaMochila01Max_Valor(50, [(10,60), (20,100), (30,120)])"
      ],
      "metadata": {
        "id": "z1Dt6lskjT6N",
        "outputId": "d3eacad6-c3d4-429d-db78-3a70e51cf496",
        "colab": {
          "base_uri": "https://localhost:8080/"
        }
      },
      "id": "z1Dt6lskjT6N",
      "execution_count": 52,
      "outputs": [
        {
          "output_type": "execute_result",
          "data": {
            "text/plain": [
              "[(20, 100), (30, 120)]"
            ]
          },
          "metadata": {},
          "execution_count": 52
        }
      ]
    },
    {
      "cell_type": "markdown",
      "id": "cross-prevention",
      "metadata": {
        "id": "cross-prevention"
      },
      "source": [
        "17. Implemente o algoritmo de agrupamento hierárquico divisivo para dados unidimensionais."
      ]
    },
    {
      "cell_type": "markdown",
      "id": "representative-check",
      "metadata": {
        "id": "representative-check"
      },
      "source": [
        "18. Altere o algoritmo de agrupamento hierárquico divisivo para considerar dados multidimensionais numéricos. Indique o que necessita ser feito para aplicar o algoritmo da questão 10 aqui. Qual a maior dificuldade para isso? Proponha uma solução para contornar essa dificuldade. Indique casos em que essa solução pode não ser satisfatória. Implemente a sua solução."
      ]
    }
  ],
  "metadata": {
    "kernelspec": {
      "display_name": "Python 3",
      "language": "python",
      "name": "python3"
    },
    "language_info": {
      "codemirror_mode": {
        "name": "ipython",
        "version": 3
      },
      "file_extension": ".py",
      "mimetype": "text/x-python",
      "name": "python",
      "nbconvert_exporter": "python",
      "pygments_lexer": "ipython3",
      "version": "3.6.7"
    },
    "colab": {
      "name": "Introducao.ipynb",
      "provenance": [],
      "include_colab_link": true
    }
  },
  "nbformat": 4,
  "nbformat_minor": 5
}